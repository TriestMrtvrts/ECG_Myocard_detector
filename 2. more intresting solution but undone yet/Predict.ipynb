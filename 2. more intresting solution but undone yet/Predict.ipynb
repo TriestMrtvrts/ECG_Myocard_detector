{
  "nbformat": 4,
  "nbformat_minor": 0,
  "metadata": {
    "colab": {
      "provenance": [],
      "gpuType": "T4"
    },
    "kernelspec": {
      "name": "python3",
      "display_name": "Python 3"
    },
    "language_info": {
      "name": "python"
    },
    "accelerator": "GPU",
    "widgets": {
      "application/vnd.jupyter.widget-state+json": {
        "0200d84b51bb4c41886c66a4b6ac1fa9": {
          "model_module": "@jupyter-widgets/controls",
          "model_name": "HBoxModel",
          "model_module_version": "1.5.0",
          "state": {
            "_dom_classes": [],
            "_model_module": "@jupyter-widgets/controls",
            "_model_module_version": "1.5.0",
            "_model_name": "HBoxModel",
            "_view_count": null,
            "_view_module": "@jupyter-widgets/controls",
            "_view_module_version": "1.5.0",
            "_view_name": "HBoxView",
            "box_style": "",
            "children": [
              "IPY_MODEL_4965120bac16464ba9adcba8c7d08fba",
              "IPY_MODEL_b82dd6a8c1794d11a59fb79174d12709",
              "IPY_MODEL_91be9a28c0d2468eb5b35bad10a9a478"
            ],
            "layout": "IPY_MODEL_60d52c51485e44c6b9b41765fea216ba"
          }
        },
        "4965120bac16464ba9adcba8c7d08fba": {
          "model_module": "@jupyter-widgets/controls",
          "model_name": "HTMLModel",
          "model_module_version": "1.5.0",
          "state": {
            "_dom_classes": [],
            "_model_module": "@jupyter-widgets/controls",
            "_model_module_version": "1.5.0",
            "_model_name": "HTMLModel",
            "_view_count": null,
            "_view_module": "@jupyter-widgets/controls",
            "_view_module_version": "1.5.0",
            "_view_name": "HTMLView",
            "description": "",
            "description_tooltip": null,
            "layout": "IPY_MODEL_c4934f23f6c5468d889a88fe1246e29f",
            "placeholder": "​",
            "style": "IPY_MODEL_c75016bad7af48b2bfa25157666b3538",
            "value": "100%"
          }
        },
        "b82dd6a8c1794d11a59fb79174d12709": {
          "model_module": "@jupyter-widgets/controls",
          "model_name": "FloatProgressModel",
          "model_module_version": "1.5.0",
          "state": {
            "_dom_classes": [],
            "_model_module": "@jupyter-widgets/controls",
            "_model_module_version": "1.5.0",
            "_model_name": "FloatProgressModel",
            "_view_count": null,
            "_view_module": "@jupyter-widgets/controls",
            "_view_module_version": "1.5.0",
            "_view_name": "ProgressView",
            "bar_style": "success",
            "description": "",
            "description_tooltip": null,
            "layout": "IPY_MODEL_cc6e20edd910462d8a932ed106dc98c0",
            "max": 449,
            "min": 0,
            "orientation": "horizontal",
            "style": "IPY_MODEL_5e730db70f384d538f5daf77aea1922c",
            "value": 449
          }
        },
        "91be9a28c0d2468eb5b35bad10a9a478": {
          "model_module": "@jupyter-widgets/controls",
          "model_name": "HTMLModel",
          "model_module_version": "1.5.0",
          "state": {
            "_dom_classes": [],
            "_model_module": "@jupyter-widgets/controls",
            "_model_module_version": "1.5.0",
            "_model_name": "HTMLModel",
            "_view_count": null,
            "_view_module": "@jupyter-widgets/controls",
            "_view_module_version": "1.5.0",
            "_view_name": "HTMLView",
            "description": "",
            "description_tooltip": null,
            "layout": "IPY_MODEL_d0ab473cb41b432da1a7f2f9700c374f",
            "placeholder": "​",
            "style": "IPY_MODEL_87ad2fa567154c1db7ba1e90eded7f63",
            "value": " 449/449 [01:50&lt;00:00,  3.29it/s]"
          }
        },
        "60d52c51485e44c6b9b41765fea216ba": {
          "model_module": "@jupyter-widgets/base",
          "model_name": "LayoutModel",
          "model_module_version": "1.2.0",
          "state": {
            "_model_module": "@jupyter-widgets/base",
            "_model_module_version": "1.2.0",
            "_model_name": "LayoutModel",
            "_view_count": null,
            "_view_module": "@jupyter-widgets/base",
            "_view_module_version": "1.2.0",
            "_view_name": "LayoutView",
            "align_content": null,
            "align_items": null,
            "align_self": null,
            "border": null,
            "bottom": null,
            "display": null,
            "flex": null,
            "flex_flow": null,
            "grid_area": null,
            "grid_auto_columns": null,
            "grid_auto_flow": null,
            "grid_auto_rows": null,
            "grid_column": null,
            "grid_gap": null,
            "grid_row": null,
            "grid_template_areas": null,
            "grid_template_columns": null,
            "grid_template_rows": null,
            "height": null,
            "justify_content": null,
            "justify_items": null,
            "left": null,
            "margin": null,
            "max_height": null,
            "max_width": null,
            "min_height": null,
            "min_width": null,
            "object_fit": null,
            "object_position": null,
            "order": null,
            "overflow": null,
            "overflow_x": null,
            "overflow_y": null,
            "padding": null,
            "right": null,
            "top": null,
            "visibility": null,
            "width": null
          }
        },
        "c4934f23f6c5468d889a88fe1246e29f": {
          "model_module": "@jupyter-widgets/base",
          "model_name": "LayoutModel",
          "model_module_version": "1.2.0",
          "state": {
            "_model_module": "@jupyter-widgets/base",
            "_model_module_version": "1.2.0",
            "_model_name": "LayoutModel",
            "_view_count": null,
            "_view_module": "@jupyter-widgets/base",
            "_view_module_version": "1.2.0",
            "_view_name": "LayoutView",
            "align_content": null,
            "align_items": null,
            "align_self": null,
            "border": null,
            "bottom": null,
            "display": null,
            "flex": null,
            "flex_flow": null,
            "grid_area": null,
            "grid_auto_columns": null,
            "grid_auto_flow": null,
            "grid_auto_rows": null,
            "grid_column": null,
            "grid_gap": null,
            "grid_row": null,
            "grid_template_areas": null,
            "grid_template_columns": null,
            "grid_template_rows": null,
            "height": null,
            "justify_content": null,
            "justify_items": null,
            "left": null,
            "margin": null,
            "max_height": null,
            "max_width": null,
            "min_height": null,
            "min_width": null,
            "object_fit": null,
            "object_position": null,
            "order": null,
            "overflow": null,
            "overflow_x": null,
            "overflow_y": null,
            "padding": null,
            "right": null,
            "top": null,
            "visibility": null,
            "width": null
          }
        },
        "c75016bad7af48b2bfa25157666b3538": {
          "model_module": "@jupyter-widgets/controls",
          "model_name": "DescriptionStyleModel",
          "model_module_version": "1.5.0",
          "state": {
            "_model_module": "@jupyter-widgets/controls",
            "_model_module_version": "1.5.0",
            "_model_name": "DescriptionStyleModel",
            "_view_count": null,
            "_view_module": "@jupyter-widgets/base",
            "_view_module_version": "1.2.0",
            "_view_name": "StyleView",
            "description_width": ""
          }
        },
        "cc6e20edd910462d8a932ed106dc98c0": {
          "model_module": "@jupyter-widgets/base",
          "model_name": "LayoutModel",
          "model_module_version": "1.2.0",
          "state": {
            "_model_module": "@jupyter-widgets/base",
            "_model_module_version": "1.2.0",
            "_model_name": "LayoutModel",
            "_view_count": null,
            "_view_module": "@jupyter-widgets/base",
            "_view_module_version": "1.2.0",
            "_view_name": "LayoutView",
            "align_content": null,
            "align_items": null,
            "align_self": null,
            "border": null,
            "bottom": null,
            "display": null,
            "flex": null,
            "flex_flow": null,
            "grid_area": null,
            "grid_auto_columns": null,
            "grid_auto_flow": null,
            "grid_auto_rows": null,
            "grid_column": null,
            "grid_gap": null,
            "grid_row": null,
            "grid_template_areas": null,
            "grid_template_columns": null,
            "grid_template_rows": null,
            "height": null,
            "justify_content": null,
            "justify_items": null,
            "left": null,
            "margin": null,
            "max_height": null,
            "max_width": null,
            "min_height": null,
            "min_width": null,
            "object_fit": null,
            "object_position": null,
            "order": null,
            "overflow": null,
            "overflow_x": null,
            "overflow_y": null,
            "padding": null,
            "right": null,
            "top": null,
            "visibility": null,
            "width": null
          }
        },
        "5e730db70f384d538f5daf77aea1922c": {
          "model_module": "@jupyter-widgets/controls",
          "model_name": "ProgressStyleModel",
          "model_module_version": "1.5.0",
          "state": {
            "_model_module": "@jupyter-widgets/controls",
            "_model_module_version": "1.5.0",
            "_model_name": "ProgressStyleModel",
            "_view_count": null,
            "_view_module": "@jupyter-widgets/base",
            "_view_module_version": "1.2.0",
            "_view_name": "StyleView",
            "bar_color": null,
            "description_width": ""
          }
        },
        "d0ab473cb41b432da1a7f2f9700c374f": {
          "model_module": "@jupyter-widgets/base",
          "model_name": "LayoutModel",
          "model_module_version": "1.2.0",
          "state": {
            "_model_module": "@jupyter-widgets/base",
            "_model_module_version": "1.2.0",
            "_model_name": "LayoutModel",
            "_view_count": null,
            "_view_module": "@jupyter-widgets/base",
            "_view_module_version": "1.2.0",
            "_view_name": "LayoutView",
            "align_content": null,
            "align_items": null,
            "align_self": null,
            "border": null,
            "bottom": null,
            "display": null,
            "flex": null,
            "flex_flow": null,
            "grid_area": null,
            "grid_auto_columns": null,
            "grid_auto_flow": null,
            "grid_auto_rows": null,
            "grid_column": null,
            "grid_gap": null,
            "grid_row": null,
            "grid_template_areas": null,
            "grid_template_columns": null,
            "grid_template_rows": null,
            "height": null,
            "justify_content": null,
            "justify_items": null,
            "left": null,
            "margin": null,
            "max_height": null,
            "max_width": null,
            "min_height": null,
            "min_width": null,
            "object_fit": null,
            "object_position": null,
            "order": null,
            "overflow": null,
            "overflow_x": null,
            "overflow_y": null,
            "padding": null,
            "right": null,
            "top": null,
            "visibility": null,
            "width": null
          }
        },
        "87ad2fa567154c1db7ba1e90eded7f63": {
          "model_module": "@jupyter-widgets/controls",
          "model_name": "DescriptionStyleModel",
          "model_module_version": "1.5.0",
          "state": {
            "_model_module": "@jupyter-widgets/controls",
            "_model_module_version": "1.5.0",
            "_model_name": "DescriptionStyleModel",
            "_view_count": null,
            "_view_module": "@jupyter-widgets/base",
            "_view_module_version": "1.2.0",
            "_view_name": "StyleView",
            "description_width": ""
          }
        }
      }
    }
  },
  "cells": [
    {
      "cell_type": "code",
      "execution_count": 1,
      "metadata": {
        "id": "LB6zGtsXUzdI"
      },
      "outputs": [],
      "source": [
        "%%capture\n",
        "!pip install torchmetrics biosppy"
      ]
    },
    {
      "cell_type": "code",
      "source": [
        "!gdown 1f0vsok44_ZwKnLK2AGRqYyw0FmYcxrCT # test.zip\n",
        "!gdown 1zXWuODLYE3UFgdUqn4HCnF93Ubg48sAm # sample_submissions к открытому тесту\n",
        "\n",
        "!gdown 1-ix_pq7EIODv3DKEjmLCIxSpvyBHYu_n # папка с моделями\n",
        "\n",
        "!unzip test.zip\n",
        "!unzip resnets18.zip"
      ],
      "metadata": {
        "id": "ARk6PWPQWpA5"
      },
      "execution_count": null,
      "outputs": []
    },
    {
      "cell_type": "code",
      "source": [
        "import pandas as pd\n",
        "import numpy as np\n",
        "from tqdm.auto import tqdm\n",
        "import os\n",
        "\n",
        "import torch\n",
        "import torch.nn as nn\n",
        "from torchvision import models\n",
        "from torchmetrics import F1Score\n",
        "\n",
        "from scipy.signal import savgol_filter, resample\n",
        "import biosppy\n",
        "\n",
        "device = torch.device(\"cuda\" if torch.cuda.is_available() else \"cpu\")\n",
        "device"
      ],
      "metadata": {
        "id": "tz4DmRTMW4Oo",
        "colab": {
          "base_uri": "https://localhost:8080/"
        },
        "outputId": "b7a68ce2-0446-4c91-b9f1-4824e961bd58"
      },
      "execution_count": 5,
      "outputs": [
        {
          "output_type": "execute_result",
          "data": {
            "text/plain": [
              "device(type='cuda')"
            ]
          },
          "metadata": {},
          "execution_count": 5
        }
      ]
    },
    {
      "cell_type": "code",
      "source": [
        "class ECGResNet(nn.Module):\n",
        "    def __init__(self, model_path='best.pt', device='cpu'):\n",
        "        super().__init__()\n",
        "        self.device = device\n",
        "\n",
        "        self.classifier = models.resnet18(pretrained=True)\n",
        "        self.classifier.conv1 = torch.nn.Conv2d(1, 64, kernel_size=(7, 7), stride=(2, 2), padding=(3, 3), bias=False)\n",
        "        self.classifier.fc = torch.nn.Linear(in_features=self.classifier.fc.in_features, out_features=2, bias=True)\n",
        "\n",
        "        self.classifier.load_state_dict(torch.load(model_path, map_location=torch.device(self.device)))\n",
        "        self.classifier.eval().to(self.device)\n",
        "\n",
        "    def forward(self, x):\n",
        "        x = self.classifier(x)\n",
        "        return x"
      ],
      "metadata": {
        "id": "3WkFemBCXWNi"
      },
      "execution_count": 6,
      "outputs": []
    },
    {
      "cell_type": "code",
      "source": [
        "class ECGClassifier(nn.Module):\n",
        "    def __init__(self, models_path, device='cpu'):\n",
        "        super().__init__()\n",
        "        self.device = device\n",
        "\n",
        "        models_names = [f'{models_path}/{name}' for name in os.listdir(models_path) if name[-3:] == 'pth']\n",
        "\n",
        "        self.pipeline = []\n",
        "\n",
        "        for name in models_names:\n",
        "            self.pipeline.append(ECGResNet(model_path=name, device=self.device))\n",
        "\n",
        "    def forward(self, x):\n",
        "        logits = torch.zeros(x.shape[0], 2).to(self.device)\n",
        "\n",
        "        for model in self.pipeline:\n",
        "            logits += nn.functional.softmax(model(x), dim=1)\n",
        "\n",
        "        logits /= len(self.pipeline)\n",
        "\n",
        "        return logits"
      ],
      "metadata": {
        "id": "cxMKmk_mdIOY"
      },
      "execution_count": 7,
      "outputs": []
    },
    {
      "cell_type": "code",
      "source": [
        "%%capture\n",
        "classifier = ECGClassifier('/content/resnets18', device=device)"
      ],
      "metadata": {
        "id": "1uRUp554TO3L"
      },
      "execution_count": 20,
      "outputs": []
    },
    {
      "cell_type": "code",
      "source": [
        "def get_predicts(data_path, sample_submission=None):\n",
        "    \"\"\"\n",
        "    data_path: путь к директроии с сигналами\n",
        "    sample_submission: путь датафрейму с колонками record_name myocard который будет заполняться, если None создается на основе data_path\n",
        "    \"\"\"\n",
        "\n",
        "    predict = pd.DataFrame(columns=['record_name', 'myocard'])\n",
        "\n",
        "    # создание датафрейма для предсказаний\n",
        "    if sample_submission is None:\n",
        "        predict.record_name = [record[:-4] for record in os.listdir(data_path) if record[-4:] == '.npy']\n",
        "    else:\n",
        "        test = pd.read_csv(sample_submission)\n",
        "        predict.record_name = test.record_name\n",
        "\n",
        "    for name in tqdm(predict.record_name):\n",
        "        data = np.load(f'{data_path}/{name}.npy')\n",
        "\n",
        "        # Удаление шума\n",
        "        data = np.apply_along_axis(lambda x: savgol_filter(x, 30, 2), axis=1, arr=data)\n",
        "\n",
        "        # Получение индексов R пиков\n",
        "        peaks = biosppy.signals.ecg.christov_segmenter(signal=data[10], sampling_rate = 500)[0]\n",
        "        if len(peaks) < 3:\n",
        "            peaks = biosppy.signals.ecg.christov_segmenter(signal=data[1], sampling_rate = 500)[0]\n",
        "\n",
        "        signals = []\n",
        "        count = 1\n",
        "\n",
        "        for i in peaks[1:-1]:\n",
        "            # Вокруг R пика берется интервал равный половине растояния до следующего R пика\n",
        "            diff1 = abs(peaks[count - 1] - i)\n",
        "            diff2 = abs(peaks[count + 1]- i)\n",
        "            x = peaks[count - 1] + diff1 // 2\n",
        "            y = peaks[count + 1] - diff2 // 2\n",
        "\n",
        "            signal = torch.tensor(resample(data[:, x:y], 500, axis=1)).to(device)\n",
        "\n",
        "            signals.append(signal)\n",
        "            count += 1\n",
        "\n",
        "        else:\n",
        "            signals = torch.stack(signals)[:, None, :, :]\n",
        "\n",
        "            peaks_logits = classifier(signals)\n",
        "            peaks_logits = torch.argmax(peaks_logits, dim=1)\n",
        "\n",
        "            ans = int(sum(peaks_logits) / len(peaks_logits) > 0.5)\n",
        "\n",
        "\n",
        "        predict.loc[predict.record_name == name, 'myocard'] = ans\n",
        "\n",
        "    return predict"
      ],
      "metadata": {
        "id": "zlheQsOTTTjj"
      },
      "execution_count": 17,
      "outputs": []
    },
    {
      "cell_type": "code",
      "source": [
        "predict = get_predicts(data_path='test', sample_submission='test.csv')"
      ],
      "metadata": {
        "id": "-bFN0SawW6zT",
        "colab": {
          "base_uri": "https://localhost:8080/",
          "height": 49,
          "referenced_widgets": [
            "0200d84b51bb4c41886c66a4b6ac1fa9",
            "4965120bac16464ba9adcba8c7d08fba",
            "b82dd6a8c1794d11a59fb79174d12709",
            "91be9a28c0d2468eb5b35bad10a9a478",
            "60d52c51485e44c6b9b41765fea216ba",
            "c4934f23f6c5468d889a88fe1246e29f",
            "c75016bad7af48b2bfa25157666b3538",
            "cc6e20edd910462d8a932ed106dc98c0",
            "5e730db70f384d538f5daf77aea1922c",
            "d0ab473cb41b432da1a7f2f9700c374f",
            "87ad2fa567154c1db7ba1e90eded7f63"
          ]
        },
        "outputId": "0c9855e5-71c7-458f-abc5-dbd9ade91c40"
      },
      "execution_count": 18,
      "outputs": [
        {
          "output_type": "display_data",
          "data": {
            "text/plain": [
              "  0%|          | 0/449 [00:00<?, ?it/s]"
            ],
            "application/vnd.jupyter.widget-view+json": {
              "version_major": 2,
              "version_minor": 0,
              "model_id": "0200d84b51bb4c41886c66a4b6ac1fa9"
            }
          },
          "metadata": {}
        }
      ]
    },
    {
      "cell_type": "code",
      "source": [],
      "metadata": {
        "id": "trUs4kZ3dkmF"
      },
      "execution_count": null,
      "outputs": []
    }
  ]
}