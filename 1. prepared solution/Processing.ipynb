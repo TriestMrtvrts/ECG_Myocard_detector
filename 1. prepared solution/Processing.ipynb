{
 "cells": [
  {
   "cell_type": "code",
   "execution_count": 126,
   "id": "1b5d62c5-9783-4f98-a840-a1d4e4857124",
   "metadata": {},
   "outputs": [],
   "source": [
    "%%capture\n",
    "from tqdm.auto import tqdm\n",
    "from IPython.display import clear_output\n",
    "\n",
    "import numpy as np\n",
    "import pandas as pd\n",
    "\n",
    "import torch\n",
    "import biosppy\n",
    "from scipy.signal import savgol_filter, resample"
   ]
  },
  {
   "cell_type": "code",
   "execution_count": 161,
   "id": "f76ce231-b87c-4093-8691-5280e6e044a9",
   "metadata": {},
   "outputs": [],
   "source": [
    "labels = pd.read_csv('task_1/train/train_gts.csv')\n",
    "test_labels = pd.read_csv('task_1/test/test_meta.csv')[['record_name']]"
   ]
  },
  {
   "cell_type": "code",
   "execution_count": 96,
   "id": "77724aac-0744-49f3-a9e7-be5ab08966fc",
   "metadata": {},
   "outputs": [],
   "source": [
    "new_labels = pd.DataFrame(columns=['record_name', 'myocard'])\n",
    "filenames = labels.record_name"
   ]
  },
  {
   "cell_type": "code",
   "execution_count": 156,
   "id": "86090693-c948-4aaa-9668-3cadbf9be6e6",
   "metadata": {},
   "outputs": [
    {
     "data": {
      "application/vnd.jupyter.widget-view+json": {
       "model_id": "48aa57198857447ba4baf2856ccbfb43",
       "version_major": 2,
       "version_minor": 0
      },
      "text/plain": [
       "  0%|          | 0/2101 [00:00<?, ?it/s]"
      ]
     },
     "metadata": {},
     "output_type": "display_data"
    }
   ],
   "source": [
    "for filename in tqdm(filenames):\n",
    "    data = np.load(f'../aiijc_data/task_1/train/{filename}.npy')\n",
    "    data = np.apply_along_axis(lambda x: savgol_filter(x, 30, 2), axis=1, arr=data)\n",
    "\n",
    "    peaks =  biosppy.signals.ecg.christov_segmenter(signal=data[10], sampling_rate = 500)[0]\n",
    "    \n",
    "    signals = []\n",
    "    count = 1\n",
    "\n",
    "    for i in peaks[1:-1]:\n",
    "        x = i - 200\n",
    "        y = i + 200\n",
    "\n",
    "        signal = data[:, x:y]\n",
    "        \n",
    "        signals.append(signal)\n",
    "        count += 1\n",
    "\n",
    "    \n",
    "    for i, signal in enumerate(signals):\n",
    "        filepath = f'R_peaks/signals/{filename}_{i}'\n",
    "\n",
    "        np.save(filepath, signal)\n",
    "        \n",
    "        res = pd.DataFrame(data={'record_name': f'{filename}_{i}', 'myocard': labels.loc[labels.record_name == filename, 'myocard']})\n",
    "        new_labels = pd.concat([new_labels, res])"
   ]
  },
  {
   "cell_type": "code",
   "execution_count": 153,
   "id": "4e985a5d-e481-406e-b6d0-7462f77b8e0e",
   "metadata": {},
   "outputs": [],
   "source": [
    "new_labels.to_csv('R_peaks/labels.csv', index=False)"
   ]
  }
 ],
 "metadata": {
  "kernelspec": {
   "display_name": "Python 3 (ipykernel)",
   "language": "python",
   "name": "python3"
  },
  "language_info": {
   "codemirror_mode": {
    "name": "ipython",
    "version": 3
   },
   "file_extension": ".py",
   "mimetype": "text/x-python",
   "name": "python",
   "nbconvert_exporter": "python",
   "pygments_lexer": "ipython3",
   "version": "3.11.5"
  }
 },
 "nbformat": 4,
 "nbformat_minor": 5
}
